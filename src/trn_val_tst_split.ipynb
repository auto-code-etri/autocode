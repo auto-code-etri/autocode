{
 "cells": [
  {
   "cell_type": "markdown",
   "id": "heavy-hundred",
   "metadata": {},
   "source": [
    "# 한국어-영어 번역(병렬) 말뭉치 AI 데이터\n",
    "\n",
    "구어체 데이터 40만 개를 사용하여 Transformer 번역 모델을 학습합니다.\n",
    "\n",
    "\n",
    "링크: https://aihub.or.kr/aidata/87"
   ]
  },
  {
   "cell_type": "code",
   "execution_count": 1,
   "id": "personal-major",
   "metadata": {},
   "outputs": [],
   "source": [
    "# %load_ext lab_black"
   ]
  },
  {
   "cell_type": "code",
   "execution_count": 2,
   "id": "alike-produce",
   "metadata": {},
   "outputs": [],
   "source": [
    "import pandas as pd"
   ]
  },
  {
   "cell_type": "code",
   "execution_count": 3,
   "id": "electrical-senator",
   "metadata": {},
   "outputs": [],
   "source": [
    "path_1 = \"./data/1_구어체(1)_200226.xlsx\"\n",
    "path_2 = \"./data/1_구어체(2)_200226.xlsx\""
   ]
  },
  {
   "cell_type": "code",
   "execution_count": 4,
   "id": "coated-ability",
   "metadata": {},
   "outputs": [
    {
     "name": "stderr",
     "output_type": "stream",
     "text": [
      "/home/youngerous/.local/lib/python3.6/site-packages/openpyxl/styles/stylesheet.py:221: UserWarning: Workbook contains no default style, apply openpyxl's default\n",
      "  warn(\"Workbook contains no default style, apply openpyxl's default\")\n"
     ]
    }
   ],
   "source": [
    "data_1 = pd.read_excel(path_1, engine=\"openpyxl\")\n",
    "data_2 = pd.read_excel(path_2, engine=\"openpyxl\")"
   ]
  },
  {
   "cell_type": "code",
   "execution_count": 5,
   "id": "american-composer",
   "metadata": {},
   "outputs": [
    {
     "name": "stdout",
     "output_type": "stream",
     "text": [
      "200000 200000\n"
     ]
    }
   ],
   "source": [
    "print(len(data_1), len(data_2))"
   ]
  },
  {
   "cell_type": "code",
   "execution_count": 6,
   "id": "departmental-classic",
   "metadata": {},
   "outputs": [
    {
     "data": {
      "text/html": [
       "<div>\n",
       "<style scoped>\n",
       "    .dataframe tbody tr th:only-of-type {\n",
       "        vertical-align: middle;\n",
       "    }\n",
       "\n",
       "    .dataframe tbody tr th {\n",
       "        vertical-align: top;\n",
       "    }\n",
       "\n",
       "    .dataframe thead th {\n",
       "        text-align: right;\n",
       "    }\n",
       "</style>\n",
       "<table border=\"1\" class=\"dataframe\">\n",
       "  <thead>\n",
       "    <tr style=\"text-align: right;\">\n",
       "      <th></th>\n",
       "      <th>SID</th>\n",
       "      <th>원문</th>\n",
       "      <th>번역문</th>\n",
       "    </tr>\n",
       "  </thead>\n",
       "  <tbody>\n",
       "    <tr>\n",
       "      <th>0</th>\n",
       "      <td>1</td>\n",
       "      <td>'Bible Coloring'은 성경의 아름다운 이야기를 체험 할 수 있는 컬러링 ...</td>\n",
       "      <td>Bible Coloring' is a coloring application that...</td>\n",
       "    </tr>\n",
       "    <tr>\n",
       "      <th>1</th>\n",
       "      <td>2</td>\n",
       "      <td>씨티은행에서 일하세요?</td>\n",
       "      <td>Do you work at a City bank?</td>\n",
       "    </tr>\n",
       "    <tr>\n",
       "      <th>2</th>\n",
       "      <td>3</td>\n",
       "      <td>푸리토의 베스트셀러는 해외에서 입소문만으로 4차 완판을 기록하였다.</td>\n",
       "      <td>PURITO's bestseller, which recorded 4th rough ...</td>\n",
       "    </tr>\n",
       "    <tr>\n",
       "      <th>3</th>\n",
       "      <td>4</td>\n",
       "      <td>11장에서는 예수님이 이번엔 나사로를 무덤에서 불러내어 죽은 자 가운데서 살리셨습니다.</td>\n",
       "      <td>In Chapter 11 Jesus called Lazarus from the to...</td>\n",
       "    </tr>\n",
       "    <tr>\n",
       "      <th>4</th>\n",
       "      <td>5</td>\n",
       "      <td>6.5, 7, 8 사이즈가 몇 개나 더 재입고 될지 제게 알려주시면 감사하겠습니다.</td>\n",
       "      <td>I would feel grateful to know how many stocks ...</td>\n",
       "    </tr>\n",
       "  </tbody>\n",
       "</table>\n",
       "</div>"
      ],
      "text/plain": [
       "   SID                                                 원문  \\\n",
       "0    1  'Bible Coloring'은 성경의 아름다운 이야기를 체험 할 수 있는 컬러링 ...   \n",
       "1    2                                       씨티은행에서 일하세요?   \n",
       "2    3              푸리토의 베스트셀러는 해외에서 입소문만으로 4차 완판을 기록하였다.   \n",
       "3    4   11장에서는 예수님이 이번엔 나사로를 무덤에서 불러내어 죽은 자 가운데서 살리셨습니다.   \n",
       "4    5     6.5, 7, 8 사이즈가 몇 개나 더 재입고 될지 제게 알려주시면 감사하겠습니다.   \n",
       "\n",
       "                                                 번역문  \n",
       "0  Bible Coloring' is a coloring application that...  \n",
       "1                        Do you work at a City bank?  \n",
       "2  PURITO's bestseller, which recorded 4th rough ...  \n",
       "3  In Chapter 11 Jesus called Lazarus from the to...  \n",
       "4  I would feel grateful to know how many stocks ...  "
      ]
     },
     "execution_count": 6,
     "metadata": {},
     "output_type": "execute_result"
    }
   ],
   "source": [
    "data_1.head()"
   ]
  },
  {
   "cell_type": "code",
   "execution_count": 11,
   "id": "protecting-stress",
   "metadata": {},
   "outputs": [
    {
     "data": {
      "text/html": [
       "<div>\n",
       "<style scoped>\n",
       "    .dataframe tbody tr th:only-of-type {\n",
       "        vertical-align: middle;\n",
       "    }\n",
       "\n",
       "    .dataframe tbody tr th {\n",
       "        vertical-align: top;\n",
       "    }\n",
       "\n",
       "    .dataframe thead th {\n",
       "        text-align: right;\n",
       "    }\n",
       "</style>\n",
       "<table border=\"1\" class=\"dataframe\">\n",
       "  <thead>\n",
       "    <tr style=\"text-align: right;\">\n",
       "      <th></th>\n",
       "      <th>SID</th>\n",
       "      <th>원문</th>\n",
       "      <th>번역문</th>\n",
       "    </tr>\n",
       "  </thead>\n",
       "  <tbody>\n",
       "    <tr>\n",
       "      <th>0</th>\n",
       "      <td>200001</td>\n",
       "      <td>0 설정을 입력하고 안정될 때까지 5분 동안 기다린 후 OK 버튼을 길게 누르십시오.</td>\n",
       "      <td>Enter into 0 setting, and wait for 5 minutes t...</td>\n",
       "    </tr>\n",
       "    <tr>\n",
       "      <th>1</th>\n",
       "      <td>200002</td>\n",
       "      <td>0은 그들에게 아무것도 아니었지만 무는 숫자일 수가 없습니다.</td>\n",
       "      <td>The zero was nothing for them but nothing coul...</td>\n",
       "    </tr>\n",
       "    <tr>\n",
       "      <th>2</th>\n",
       "      <td>200003</td>\n",
       "      <td>1,015버전에서 핫키 버그가 있습니다.</td>\n",
       "      <td>There is a Hotkey bug in the 1,015 version.</td>\n",
       "    </tr>\n",
       "    <tr>\n",
       "      <th>3</th>\n",
       "      <td>200004</td>\n",
       "      <td>1,390점에서 1,440점을 득점한 사람은 재판을 위해 걸러집니다.</td>\n",
       "      <td>Individuals who got a score between 1,390 and ...</td>\n",
       "    </tr>\n",
       "    <tr>\n",
       "      <th>4</th>\n",
       "      <td>200005</td>\n",
       "      <td>1,400년보다 오래 전의 유적지에 있는 최초의 성당에서 숭배자들은 그것을 인지했을...</td>\n",
       "      <td>Indeed, worshippers at the very first cathedra...</td>\n",
       "    </tr>\n",
       "  </tbody>\n",
       "</table>\n",
       "</div>"
      ],
      "text/plain": [
       "      SID                                                 원문  \\\n",
       "0  200001    0 설정을 입력하고 안정될 때까지 5분 동안 기다린 후 OK 버튼을 길게 누르십시오.   \n",
       "1  200002                 0은 그들에게 아무것도 아니었지만 무는 숫자일 수가 없습니다.   \n",
       "2  200003                             1,015버전에서 핫키 버그가 있습니다.   \n",
       "3  200004             1,390점에서 1,440점을 득점한 사람은 재판을 위해 걸러집니다.   \n",
       "4  200005  1,400년보다 오래 전의 유적지에 있는 최초의 성당에서 숭배자들은 그것을 인지했을...   \n",
       "\n",
       "                                                 번역문  \n",
       "0  Enter into 0 setting, and wait for 5 minutes t...  \n",
       "1  The zero was nothing for them but nothing coul...  \n",
       "2        There is a Hotkey bug in the 1,015 version.  \n",
       "3  Individuals who got a score between 1,390 and ...  \n",
       "4  Indeed, worshippers at the very first cathedra...  "
      ]
     },
     "execution_count": 11,
     "metadata": {},
     "output_type": "execute_result"
    }
   ],
   "source": [
    "del data_2[\"Unnamed: 3\"]\n",
    "data_2.head()"
   ]
  },
  {
   "cell_type": "markdown",
   "id": "extended-manner",
   "metadata": {},
   "source": [
    "# Tokenizer\n",
    "huggingface에서 제공하는 multilingual 토크나이저(```bert-base-multilingual-cased```)를 사용합니다."
   ]
  },
  {
   "cell_type": "code",
   "execution_count": 12,
   "id": "transparent-privilege",
   "metadata": {},
   "outputs": [],
   "source": [
    "from transformers import BertTokenizer"
   ]
  },
  {
   "cell_type": "code",
   "execution_count": 13,
   "id": "damaged-california",
   "metadata": {},
   "outputs": [],
   "source": [
    "tok = BertTokenizer.from_pretrained(\"bert-base-multilingual-cased\")"
   ]
  },
  {
   "cell_type": "code",
   "execution_count": 14,
   "id": "diverse-pocket",
   "metadata": {},
   "outputs": [],
   "source": [
    "vocab_list = list(tok.vocab.items())"
   ]
  },
  {
   "cell_type": "code",
   "execution_count": 15,
   "id": "homeless-bristol",
   "metadata": {},
   "outputs": [
    {
     "data": {
      "text/plain": [
       "[('[PAD]', 0),\n",
       " ('[unused1]', 1),\n",
       " ('[unused2]', 2),\n",
       " ('[unused3]', 3),\n",
       " ('[unused4]', 4),\n",
       " ('[unused5]', 5),\n",
       " ('[unused6]', 6),\n",
       " ('[unused7]', 7),\n",
       " ('[unused8]', 8),\n",
       " ('[unused9]', 9),\n",
       " ('[unused10]', 10),\n",
       " ('[unused11]', 11),\n",
       " ('[unused12]', 12),\n",
       " ('[unused13]', 13),\n",
       " ('[unused14]', 14),\n",
       " ('[unused15]', 15),\n",
       " ('[unused16]', 16),\n",
       " ('[unused17]', 17),\n",
       " ('[unused18]', 18),\n",
       " ('[unused19]', 19),\n",
       " ('[unused20]', 20),\n",
       " ('[unused21]', 21),\n",
       " ('[unused22]', 22),\n",
       " ('[unused23]', 23),\n",
       " ('[unused24]', 24),\n",
       " ('[unused25]', 25),\n",
       " ('[unused26]', 26),\n",
       " ('[unused27]', 27),\n",
       " ('[unused28]', 28),\n",
       " ('[unused29]', 29),\n",
       " ('[unused30]', 30),\n",
       " ('[unused31]', 31),\n",
       " ('[unused32]', 32),\n",
       " ('[unused33]', 33),\n",
       " ('[unused34]', 34),\n",
       " ('[unused35]', 35),\n",
       " ('[unused36]', 36),\n",
       " ('[unused37]', 37),\n",
       " ('[unused38]', 38),\n",
       " ('[unused39]', 39),\n",
       " ('[unused40]', 40),\n",
       " ('[unused41]', 41),\n",
       " ('[unused42]', 42),\n",
       " ('[unused43]', 43),\n",
       " ('[unused44]', 44),\n",
       " ('[unused45]', 45),\n",
       " ('[unused46]', 46),\n",
       " ('[unused47]', 47),\n",
       " ('[unused48]', 48),\n",
       " ('[unused49]', 49),\n",
       " ('[unused50]', 50),\n",
       " ('[unused51]', 51),\n",
       " ('[unused52]', 52),\n",
       " ('[unused53]', 53),\n",
       " ('[unused54]', 54),\n",
       " ('[unused55]', 55),\n",
       " ('[unused56]', 56),\n",
       " ('[unused57]', 57),\n",
       " ('[unused58]', 58),\n",
       " ('[unused59]', 59),\n",
       " ('[unused60]', 60),\n",
       " ('[unused61]', 61),\n",
       " ('[unused62]', 62),\n",
       " ('[unused63]', 63),\n",
       " ('[unused64]', 64),\n",
       " ('[unused65]', 65),\n",
       " ('[unused66]', 66),\n",
       " ('[unused67]', 67),\n",
       " ('[unused68]', 68),\n",
       " ('[unused69]', 69),\n",
       " ('[unused70]', 70),\n",
       " ('[unused71]', 71),\n",
       " ('[unused72]', 72),\n",
       " ('[unused73]', 73),\n",
       " ('[unused74]', 74),\n",
       " ('[unused75]', 75),\n",
       " ('[unused76]', 76),\n",
       " ('[unused77]', 77),\n",
       " ('[unused78]', 78),\n",
       " ('[unused79]', 79),\n",
       " ('[unused80]', 80),\n",
       " ('[unused81]', 81),\n",
       " ('[unused82]', 82),\n",
       " ('[unused83]', 83),\n",
       " ('[unused84]', 84),\n",
       " ('[unused85]', 85),\n",
       " ('[unused86]', 86),\n",
       " ('[unused87]', 87),\n",
       " ('[unused88]', 88),\n",
       " ('[unused89]', 89),\n",
       " ('[unused90]', 90),\n",
       " ('[unused91]', 91),\n",
       " ('[unused92]', 92),\n",
       " ('[unused93]', 93),\n",
       " ('[unused94]', 94),\n",
       " ('[unused95]', 95),\n",
       " ('[unused96]', 96),\n",
       " ('[unused97]', 97),\n",
       " ('[unused98]', 98),\n",
       " ('[unused99]', 99),\n",
       " ('[UNK]', 100),\n",
       " ('[CLS]', 101),\n",
       " ('[SEP]', 102),\n",
       " ('[MASK]', 103),\n",
       " ('<S>', 104),\n",
       " ('<T>', 105),\n",
       " ('!', 106),\n",
       " ('\"', 107),\n",
       " ('#', 108),\n",
       " ('$', 109),\n",
       " ('%', 110),\n",
       " ('&', 111),\n",
       " (\"'\", 112),\n",
       " ('(', 113),\n",
       " (')', 114),\n",
       " ('*', 115),\n",
       " ('+', 116),\n",
       " (',', 117),\n",
       " ('-', 118),\n",
       " ('.', 119),\n",
       " ('/', 120),\n",
       " ('0', 121),\n",
       " ('1', 122),\n",
       " ('2', 123),\n",
       " ('3', 124),\n",
       " ('4', 125),\n",
       " ('5', 126),\n",
       " ('6', 127),\n",
       " ('7', 128),\n",
       " ('8', 129),\n",
       " ('9', 130),\n",
       " (':', 131),\n",
       " (';', 132),\n",
       " ('<', 133),\n",
       " ('=', 134),\n",
       " ('>', 135),\n",
       " ('?', 136),\n",
       " ('@', 137),\n",
       " ('A', 138),\n",
       " ('B', 139),\n",
       " ('C', 140),\n",
       " ('D', 141),\n",
       " ('E', 142),\n",
       " ('F', 143),\n",
       " ('G', 144),\n",
       " ('H', 145),\n",
       " ('I', 146),\n",
       " ('J', 147),\n",
       " ('K', 148),\n",
       " ('L', 149)]"
      ]
     },
     "execution_count": 15,
     "metadata": {},
     "output_type": "execute_result"
    }
   ],
   "source": [
    "vocab_list[:150]"
   ]
  },
  {
   "cell_type": "code",
   "execution_count": 16,
   "id": "working-surfing",
   "metadata": {},
   "outputs": [
    {
     "data": {
      "text/plain": [
       "['안', '##녕', '##하', '##세', '##요']"
      ]
     },
     "execution_count": 16,
     "metadata": {},
     "output_type": "execute_result"
    }
   ],
   "source": [
    "tok.tokenize(\"안녕하세요\")"
   ]
  },
  {
   "cell_type": "markdown",
   "id": "tight-subject",
   "metadata": {},
   "source": [
    "# Train, Valid, Test Split"
   ]
  },
  {
   "cell_type": "code",
   "execution_count": 23,
   "id": "underlying-bunny",
   "metadata": {},
   "outputs": [],
   "source": [
    "from sklearn.model_selection import train_test_split"
   ]
  },
  {
   "cell_type": "code",
   "execution_count": 17,
   "id": "chronic-suffering",
   "metadata": {},
   "outputs": [
    {
     "data": {
      "text/plain": [
       "400000"
      ]
     },
     "execution_count": 17,
     "metadata": {},
     "output_type": "execute_result"
    }
   ],
   "source": [
    "# concatenate two dataframe\n",
    "total_data = pd.concat([data_1, data_2], axis=0).reset_index(drop=True)\n",
    "len(total_data)"
   ]
  },
  {
   "cell_type": "code",
   "execution_count": 19,
   "id": "chemical-shock",
   "metadata": {},
   "outputs": [
    {
     "data": {
      "text/html": [
       "<div>\n",
       "<style scoped>\n",
       "    .dataframe tbody tr th:only-of-type {\n",
       "        vertical-align: middle;\n",
       "    }\n",
       "\n",
       "    .dataframe tbody tr th {\n",
       "        vertical-align: top;\n",
       "    }\n",
       "\n",
       "    .dataframe thead th {\n",
       "        text-align: right;\n",
       "    }\n",
       "</style>\n",
       "<table border=\"1\" class=\"dataframe\">\n",
       "  <thead>\n",
       "    <tr style=\"text-align: right;\">\n",
       "      <th></th>\n",
       "      <th>원문</th>\n",
       "      <th>번역문</th>\n",
       "    </tr>\n",
       "  </thead>\n",
       "  <tbody>\n",
       "    <tr>\n",
       "      <th>399995</th>\n",
       "      <td>당신은 곧 당신의 조카를 볼 수 있어요.</td>\n",
       "      <td>You can see your nephew soon.</td>\n",
       "    </tr>\n",
       "    <tr>\n",
       "      <th>399996</th>\n",
       "      <td>나는 당신이 내게 공유한 음악을 들었어요.</td>\n",
       "      <td>I've listened to the music that you shared wit...</td>\n",
       "    </tr>\n",
       "    <tr>\n",
       "      <th>399997</th>\n",
       "      <td>그 서류는 당신이 공유해 준 것과 달라요.</td>\n",
       "      <td>The document is different from what you shared.</td>\n",
       "    </tr>\n",
       "    <tr>\n",
       "      <th>399998</th>\n",
       "      <td>당신이 잡지에 광고 낸 것을 봤어요.</td>\n",
       "      <td>I saw your advertisement in the magazine.</td>\n",
       "    </tr>\n",
       "    <tr>\n",
       "      <th>399999</th>\n",
       "      <td>당신이 이제 괜찮다니 저는 참 기쁘군요.</td>\n",
       "      <td>I'm really glad you're all right now.</td>\n",
       "    </tr>\n",
       "  </tbody>\n",
       "</table>\n",
       "</div>"
      ],
      "text/plain": [
       "                             원문  \\\n",
       "399995   당신은 곧 당신의 조카를 볼 수 있어요.   \n",
       "399996  나는 당신이 내게 공유한 음악을 들었어요.   \n",
       "399997  그 서류는 당신이 공유해 준 것과 달라요.   \n",
       "399998     당신이 잡지에 광고 낸 것을 봤어요.   \n",
       "399999   당신이 이제 괜찮다니 저는 참 기쁘군요.   \n",
       "\n",
       "                                                      번역문  \n",
       "399995                      You can see your nephew soon.  \n",
       "399996  I've listened to the music that you shared wit...  \n",
       "399997    The document is different from what you shared.  \n",
       "399998          I saw your advertisement in the magazine.  \n",
       "399999              I'm really glad you're all right now.  "
      ]
     },
     "execution_count": 19,
     "metadata": {},
     "output_type": "execute_result"
    }
   ],
   "source": [
    "del total_data[\"SID\"]\n",
    "total_data.tail()"
   ]
  },
  {
   "cell_type": "code",
   "execution_count": 26,
   "id": "natural-services",
   "metadata": {},
   "outputs": [
    {
     "name": "stdout",
     "output_type": "stream",
     "text": [
      "340000 60000\n"
     ]
    }
   ],
   "source": [
    "# split\n",
    "trn_val, test = train_test_split(total_data, test_size=0.15, shuffle=True)\n",
    "print(len(trn_val), len(test))"
   ]
  },
  {
   "cell_type": "code",
   "execution_count": 27,
   "id": "eleven-novelty",
   "metadata": {},
   "outputs": [
    {
     "name": "stdout",
     "output_type": "stream",
     "text": [
      "289000 51000\n"
     ]
    }
   ],
   "source": [
    "train, valid = train_test_split(trn_val, test_size=0.15, shuffle=True)\n",
    "print(len(train), len(valid))"
   ]
  },
  {
   "cell_type": "markdown",
   "id": "sapphire-catholic",
   "metadata": {},
   "source": [
    "Train 289,000 / Valid 51,000 / Test 60,000"
   ]
  },
  {
   "cell_type": "code",
   "execution_count": 28,
   "id": "false-devil",
   "metadata": {},
   "outputs": [],
   "source": [
    "# save file\n",
    "train.to_csv(\"./data/train_289000.csv\", index=False)\n",
    "valid.to_csv(\"./data/valid_51000.csv\", index=False)\n",
    "test.to_csv(\"./data/test_60000.csv\", index=False)"
   ]
  },
  {
   "cell_type": "markdown",
   "id": "stylish-department",
   "metadata": {},
   "source": [
    "### check saved file"
   ]
  },
  {
   "cell_type": "code",
   "execution_count": 29,
   "id": "offshore-korean",
   "metadata": {},
   "outputs": [],
   "source": [
    "df_trn = pd.read_csv(\"./data/train_289000.csv\")"
   ]
  },
  {
   "cell_type": "code",
   "execution_count": 30,
   "id": "patient-airfare",
   "metadata": {},
   "outputs": [
    {
     "data": {
      "text/plain": [
       "289000"
      ]
     },
     "execution_count": 30,
     "metadata": {},
     "output_type": "execute_result"
    }
   ],
   "source": [
    "len(df_trn)"
   ]
  },
  {
   "cell_type": "code",
   "execution_count": 31,
   "id": "administrative-inclusion",
   "metadata": {},
   "outputs": [
    {
     "data": {
      "text/html": [
       "<div>\n",
       "<style scoped>\n",
       "    .dataframe tbody tr th:only-of-type {\n",
       "        vertical-align: middle;\n",
       "    }\n",
       "\n",
       "    .dataframe tbody tr th {\n",
       "        vertical-align: top;\n",
       "    }\n",
       "\n",
       "    .dataframe thead th {\n",
       "        text-align: right;\n",
       "    }\n",
       "</style>\n",
       "<table border=\"1\" class=\"dataframe\">\n",
       "  <thead>\n",
       "    <tr style=\"text-align: right;\">\n",
       "      <th></th>\n",
       "      <th>원문</th>\n",
       "      <th>번역문</th>\n",
       "    </tr>\n",
       "  </thead>\n",
       "  <tbody>\n",
       "    <tr>\n",
       "      <th>0</th>\n",
       "      <td>친구가 함께한다면 나는 힘들 때 위로받을 수 있어요.</td>\n",
       "      <td>I can be cheered up if I am with my friends.</td>\n",
       "    </tr>\n",
       "    <tr>\n",
       "      <th>1</th>\n",
       "      <td>나는 이번 주에 예비군 훈련하러 가요.</td>\n",
       "      <td>I'm going to reserved army drill this week.</td>\n",
       "    </tr>\n",
       "    <tr>\n",
       "      <th>2</th>\n",
       "      <td>독도는 지리적으로 일본보다 한국에 더 가깝습니다.</td>\n",
       "      <td>Dokdo is geographically closer to Korea than J...</td>\n",
       "    </tr>\n",
       "    <tr>\n",
       "      <th>3</th>\n",
       "      <td>하기 그림부분 SM이 겹쳐져 있습니다.</td>\n",
       "      <td>The SM of the picture part is overlapped in th...</td>\n",
       "    </tr>\n",
       "    <tr>\n",
       "      <th>4</th>\n",
       "      <td>우리는 3명이 남아 있습니다.</td>\n",
       "      <td>We have 3 people left.</td>\n",
       "    </tr>\n",
       "  </tbody>\n",
       "</table>\n",
       "</div>"
      ],
      "text/plain": [
       "                              원문  \\\n",
       "0  친구가 함께한다면 나는 힘들 때 위로받을 수 있어요.   \n",
       "1          나는 이번 주에 예비군 훈련하러 가요.   \n",
       "2    독도는 지리적으로 일본보다 한국에 더 가깝습니다.   \n",
       "3          하기 그림부분 SM이 겹쳐져 있습니다.   \n",
       "4               우리는 3명이 남아 있습니다.   \n",
       "\n",
       "                                                 번역문  \n",
       "0       I can be cheered up if I am with my friends.  \n",
       "1        I'm going to reserved army drill this week.  \n",
       "2  Dokdo is geographically closer to Korea than J...  \n",
       "3  The SM of the picture part is overlapped in th...  \n",
       "4                             We have 3 people left.  "
      ]
     },
     "execution_count": 31,
     "metadata": {},
     "output_type": "execute_result"
    }
   ],
   "source": [
    "df_trn.head()"
   ]
  },
  {
   "cell_type": "code",
   "execution_count": 32,
   "id": "silver-experiment",
   "metadata": {},
   "outputs": [
    {
     "data": {
      "text/plain": [
       "['친',\n",
       " '##구',\n",
       " '##가',\n",
       " '함께',\n",
       " '##한다',\n",
       " '##면',\n",
       " '나는',\n",
       " '힘',\n",
       " '##들',\n",
       " '때',\n",
       " '위',\n",
       " '##로',\n",
       " '##받',\n",
       " '##을',\n",
       " '수',\n",
       " '있어',\n",
       " '##요',\n",
       " '.']"
      ]
     },
     "execution_count": 32,
     "metadata": {},
     "output_type": "execute_result"
    }
   ],
   "source": [
    "tok.tokenize(\"친구가 함께한다면 나는 힘들 때 위로받을 수 있어요.\")"
   ]
  },
  {
   "cell_type": "code",
   "execution_count": 33,
   "id": "warming-expense",
   "metadata": {},
   "outputs": [
    {
     "data": {
      "text/plain": [
       "['I',\n",
       " 'can',\n",
       " 'be',\n",
       " 'che',\n",
       " '##ered',\n",
       " 'up',\n",
       " 'if',\n",
       " 'I',\n",
       " 'am',\n",
       " 'with',\n",
       " 'my',\n",
       " 'friends',\n",
       " '.']"
      ]
     },
     "execution_count": 33,
     "metadata": {},
     "output_type": "execute_result"
    }
   ],
   "source": [
    "tok.tokenize(\"I can be cheered up if I am with my friends.\")"
   ]
  },
  {
   "cell_type": "code",
   "execution_count": null,
   "id": "wound-starter",
   "metadata": {},
   "outputs": [],
   "source": []
  }
 ],
 "metadata": {
  "kernelspec": {
   "display_name": "Python 3",
   "language": "python",
   "name": "python3"
  },
  "language_info": {
   "codemirror_mode": {
    "name": "ipython",
    "version": 3
   },
   "file_extension": ".py",
   "mimetype": "text/x-python",
   "name": "python",
   "nbconvert_exporter": "python",
   "pygments_lexer": "ipython3",
   "version": "3.10.9"
  }
 },
 "nbformat": 4,
 "nbformat_minor": 5
}
